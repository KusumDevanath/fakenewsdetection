{
 "cells": [
  {
   "cell_type": "code",
   "execution_count": 47,
   "id": "1e212262-6d65-4d55-a674-d61a68cc4bc3",
   "metadata": {},
   "outputs": [],
   "source": [
    "import pandas as pd\n",
    "import matplotlib.pyplot as plt\n",
    "import seaborn as sns\n",
    "import spacy\n",
    "from spacy import displacy\n",
    "from spacy import tokenizer\n",
    "from spacy.tokens import Token\n",
    "import re\n",
    "import nltk\n",
    "from nltk.tokenize import word_tokenize\n",
    "from nltk.stem import PorterStemmer, WordNetLemmatizer\n",
    "from nltk.corpus import stopwords\n",
    "from vaderSentiment.vaderSentiment import SentimentIntensityAnalyzer\n",
    "import gensim\n",
    "import gensim.corpora as corpora\n",
    "from gensim.models.coherencemodel import CoherenceModel\n",
    "from gensim.models import LsiModel, TfidfModel\n",
    "from sklearn.feature_extraction.text import TfidfVectorizer\n",
    "from sklearn.feature_extraction.text import CountVectorizer, TfidfVectorizer\n",
    "from sklearn.model_selection import train_test_split\n",
    "from sklearn.linear_model import LogisticRegression, SGDClassifier \n",
    "from sklearn.metrics import accuracy_score, classification_report\n"
   ]
  },
  {
   "cell_type": "code",
   "execution_count": 9,
   "id": "96d635fe-d7f1-4641-ba7d-14bcee216bad",
   "metadata": {},
   "outputs": [],
   "source": [
    "plt.rcParams['figure.figsize'] = (12, 8) \n",
    "default_plot_colour = \"#eebfbf\""
   ]
  },
  {
   "cell_type": "code",
   "execution_count": 223,
   "id": "9f8d0682-77f9-488a-8ba9-32c52fdf54ca",
   "metadata": {},
   "outputs": [],
   "source": [
    "data = pd.read_csv(\"fake_news_data.csv\")"
   ]
  },
  {
   "cell_type": "code",
   "execution_count": 222,
   "id": "13db8f76-fede-408a-a912-9754a358befd",
   "metadata": {},
   "outputs": [
    {
     "data": {
      "text/html": [
       "<div>\n",
       "<style scoped>\n",
       "    .dataframe tbody tr th:only-of-type {\n",
       "        vertical-align: middle;\n",
       "    }\n",
       "\n",
       "    .dataframe tbody tr th {\n",
       "        vertical-align: top;\n",
       "    }\n",
       "\n",
       "    .dataframe thead th {\n",
       "        text-align: right;\n",
       "    }\n",
       "</style>\n",
       "<table border=\"1\" class=\"dataframe\">\n",
       "  <thead>\n",
       "    <tr style=\"text-align: right;\">\n",
       "      <th></th>\n",
       "      <th>title</th>\n",
       "      <th>text</th>\n",
       "      <th>date</th>\n",
       "      <th>fake_or_factual</th>\n",
       "    </tr>\n",
       "  </thead>\n",
       "  <tbody>\n",
       "    <tr>\n",
       "      <th>0</th>\n",
       "      <td>HOLLYWEIRD LIB SUSAN SARANDON Compares Muslim ...</td>\n",
       "      <td>There are two small problems with your analogy...</td>\n",
       "      <td>Dec 30, 2015</td>\n",
       "      <td>Fake News</td>\n",
       "    </tr>\n",
       "    <tr>\n",
       "      <th>1</th>\n",
       "      <td>Elijah Cummings Called Trump Out To His Face ...</td>\n",
       "      <td>Buried in Trump s bonkers interview with New Y...</td>\n",
       "      <td>April 6, 2017</td>\n",
       "      <td>Fake News</td>\n",
       "    </tr>\n",
       "    <tr>\n",
       "      <th>2</th>\n",
       "      <td>Hillary Clinton Says Half Her Cabinet Will Be...</td>\n",
       "      <td>Women make up over 50 percent of this country,...</td>\n",
       "      <td>April 26, 2016</td>\n",
       "      <td>Fake News</td>\n",
       "    </tr>\n",
       "    <tr>\n",
       "      <th>3</th>\n",
       "      <td>Russian bombing of U.S.-backed forces being di...</td>\n",
       "      <td>WASHINGTON (Reuters) - U.S. Defense Secretary ...</td>\n",
       "      <td>September 18, 2017</td>\n",
       "      <td>Factual News</td>\n",
       "    </tr>\n",
       "    <tr>\n",
       "      <th>4</th>\n",
       "      <td>Britain says window to restore Northern Irelan...</td>\n",
       "      <td>BELFAST (Reuters) - Northern Ireland s politic...</td>\n",
       "      <td>September 4, 2017</td>\n",
       "      <td>Factual News</td>\n",
       "    </tr>\n",
       "  </tbody>\n",
       "</table>\n",
       "</div>"
      ],
      "text/plain": [
       "                                               title  \\\n",
       "0  HOLLYWEIRD LIB SUSAN SARANDON Compares Muslim ...   \n",
       "1   Elijah Cummings Called Trump Out To His Face ...   \n",
       "2   Hillary Clinton Says Half Her Cabinet Will Be...   \n",
       "3  Russian bombing of U.S.-backed forces being di...   \n",
       "4  Britain says window to restore Northern Irelan...   \n",
       "\n",
       "                                                text                 date  \\\n",
       "0  There are two small problems with your analogy...         Dec 30, 2015   \n",
       "1  Buried in Trump s bonkers interview with New Y...        April 6, 2017   \n",
       "2  Women make up over 50 percent of this country,...       April 26, 2016   \n",
       "3  WASHINGTON (Reuters) - U.S. Defense Secretary ...  September 18, 2017    \n",
       "4  BELFAST (Reuters) - Northern Ireland s politic...   September 4, 2017    \n",
       "\n",
       "  fake_or_factual  \n",
       "0       Fake News  \n",
       "1       Fake News  \n",
       "2       Fake News  \n",
       "3    Factual News  \n",
       "4    Factual News  "
      ]
     },
     "execution_count": 222,
     "metadata": {},
     "output_type": "execute_result"
    }
   ],
   "source": [
    "data.head()"
   ]
  },
  {
   "cell_type": "code",
   "execution_count": 24,
   "id": "eac7bd3d-a1b5-4e7d-9c7e-63ed1f3f11ae",
   "metadata": {},
   "outputs": [
    {
     "name": "stdout",
     "output_type": "stream",
     "text": [
      "<class 'pandas.core.frame.DataFrame'>\n",
      "RangeIndex: 198 entries, 0 to 197\n",
      "Data columns (total 4 columns):\n",
      " #   Column           Non-Null Count  Dtype \n",
      "---  ------           --------------  ----- \n",
      " 0   title            198 non-null    object\n",
      " 1   text             198 non-null    object\n",
      " 2   date             198 non-null    object\n",
      " 3   fake_or_factual  198 non-null    object\n",
      "dtypes: object(4)\n",
      "memory usage: 6.3+ KB\n"
     ]
    }
   ],
   "source": [
    "data.info()"
   ]
  },
  {
   "cell_type": "code",
   "execution_count": 25,
   "id": "f3b3a73b-93b0-4e98-92a4-cd97fcc0f68b",
   "metadata": {},
   "outputs": [
    {
     "data": {
      "text/plain": [
       "Text(0.5, 1.0, 'Count of Article Classification')"
      ]
     },
     "execution_count": 25,
     "metadata": {},
     "output_type": "execute_result"
    },
    {
     "data": {
      "image/png": "[encoded data removed]",
      "text/plain": [
       "<Figure size 1200x800 with 1 Axes>"
      ]
     },
     "metadata": {},
     "output_type": "display_data"
    }
   ],
   "source": [
    "data['fake_or_factual'].value_counts().plot(kind='bar', color=default_plot_colour)\n",
    "plt.title(\"Count of Article Classification\") "
   ]
  },
  {
   "cell_type": "code",
   "execution_count": 37,
   "id": "3cf1a89c-5eec-49eb-91de-620b26fe5efe",
   "metadata": {},
   "outputs": [],
   "source": [
    "nlp = spacy.load('en_core_web_sm')"
   ]
  },
  {
   "cell_type": "code",
   "execution_count": 36,
   "id": "111eec1e-6000-4f5c-8433-23fe2163ba99",
   "metadata": {},
   "outputs": [],
   "source": [
    "fake_news = data[data['fake_or_factual'] == \"Fake News\"]\n",
    "fact_news = data[data['fake_or_factual'] == \"Factual News\"]"
   ]
  },
  {
   "cell_type": "code",
   "execution_count": 38,
   "id": "62cc5d2a-644c-4e36-b4b6-f9436fa73479",
   "metadata": {},
   "outputs": [],
   "source": [
    "fake_spacydocs = list(nlp.pipe(fake_news['text']))\n",
    "fact_spacydoc = list(nlp.pipe(fact_news['text']))"
   ]
  },
  {
   "cell_type": "code",
   "execution_count": 62,
   "id": "d3a4782c-709f-4ed4-b45c-179b12f77cf9",
   "metadata": {},
   "outputs": [],
   "source": [
    "from spacy.tokens import Doc\n",
    "def extract_token_tags(doc:Doc):\n",
    "    return [(i.text, i.ent_type_, i.pos_) for i in doc]"
   ]
  },
  {
   "cell_type": "code",
   "execution_count": 64,
   "id": "24d9c1be-ec8c-4078-8842-930e783880df",
   "metadata": {},
   "outputs": [],
   "source": [
    "fake_tagsdf = []\n",
    "columns = [\"token\", \"ner_tag\", \"pos_tag\"]"
   ]
  },
  {
   "cell_type": "code",
   "execution_count": 67,
   "id": "554e109f-ad43-433c-a27b-d7dd294af013",
   "metadata": {},
   "outputs": [],
   "source": [
    "for ix, doc in enumerate(fake_spacydocs):\n",
    "    tags = extract_token_tags(doc)\n",
    "    tags = pd.DataFrame(tags)\n",
    "    tags.columns = columns\n",
    "    fake_tagsdf.append(tags)"
   ]
  },
  {
   "cell_type": "code",
   "execution_count": 69,
   "id": "24538cad-a949-443b-ad92-225e8a8d052f",
   "metadata": {},
   "outputs": [],
   "source": [
    "fake_tagsdf = pd.concat(fake_tagsdf)"
   ]
  },
  {
   "cell_type": "code",
   "execution_count": 74,
   "id": "2f0e9993-d905-4733-9096-08ef3b53b901",
   "metadata": {},
   "outputs": [],
   "source": [
    "fact_tagsdf = []\n",
    "\n",
    "for ix, doc in enumerate(fact_spacydoc):\n",
    "    tags = extract_token_tags(doc)\n",
    "    tags = pd.DataFrame(tags)\n",
    "    tags.columns = columns\n",
    "    fact_tagsdf.append(tags)"
   ]
  },
  {
   "cell_type": "code",
   "execution_count": 75,
   "id": "a4b9b786-e9ef-4f03-ad35-59fe33fe5f4b",
   "metadata": {},
   "outputs": [],
   "source": [
    "fact_tagsdf = pd.concat(fact_tagsdf)"
   ]
  },
  {
   "cell_type": "code",
   "execution_count": 76,
   "id": "b97dd47a-df6a-4409-87fa-7f3536f3e7b3",
   "metadata": {},
   "outputs": [
    {
     "data": {
      "text/html": [
       "<div>\n",
       "<style scoped>\n",
       "    .dataframe tbody tr th:only-of-type {\n",
       "        vertical-align: middle;\n",
       "    }\n",
       "\n",
       "    .dataframe tbody tr th {\n",
       "        vertical-align: top;\n",
       "    }\n",
       "\n",
       "    .dataframe thead th {\n",
       "        text-align: right;\n",
       "    }\n",
       "</style>\n",
       "<table border=\"1\" class=\"dataframe\">\n",
       "  <thead>\n",
       "    <tr style=\"text-align: right;\">\n",
       "      <th></th>\n",
       "      <th>token</th>\n",
       "      <th>ner_tag</th>\n",
       "      <th>pos_tag</th>\n",
       "    </tr>\n",
       "  </thead>\n",
       "  <tbody>\n",
       "    <tr>\n",
       "      <th>0</th>\n",
       "      <td>There</td>\n",
       "      <td></td>\n",
       "      <td>PRON</td>\n",
       "    </tr>\n",
       "    <tr>\n",
       "      <th>1</th>\n",
       "      <td>are</td>\n",
       "      <td></td>\n",
       "      <td>VERB</td>\n",
       "    </tr>\n",
       "    <tr>\n",
       "      <th>2</th>\n",
       "      <td>two</td>\n",
       "      <td>CARDINAL</td>\n",
       "      <td>NUM</td>\n",
       "    </tr>\n",
       "    <tr>\n",
       "      <th>3</th>\n",
       "      <td>small</td>\n",
       "      <td></td>\n",
       "      <td>ADJ</td>\n",
       "    </tr>\n",
       "    <tr>\n",
       "      <th>4</th>\n",
       "      <td>problems</td>\n",
       "      <td></td>\n",
       "      <td>NOUN</td>\n",
       "    </tr>\n",
       "  </tbody>\n",
       "</table>\n",
       "</div>"
      ],
      "text/plain": [
       "      token   ner_tag pos_tag\n",
       "0     There              PRON\n",
       "1       are              VERB\n",
       "2       two  CARDINAL     NUM\n",
       "3     small               ADJ\n",
       "4  problems              NOUN"
      ]
     },
     "execution_count": 76,
     "metadata": {},
     "output_type": "execute_result"
    }
   ],
   "source": [
    "fake_tagsdf.head()"
   ]
  },
  {
   "cell_type": "code",
   "execution_count": 77,
   "id": "09f0cea4-8767-41b2-973b-f10fe6a156d1",
   "metadata": {},
   "outputs": [
    {
     "data": {
      "text/html": [
       "<div>\n",
       "<style scoped>\n",
       "    .dataframe tbody tr th:only-of-type {\n",
       "        vertical-align: middle;\n",
       "    }\n",
       "\n",
       "    .dataframe tbody tr th {\n",
       "        vertical-align: top;\n",
       "    }\n",
       "\n",
       "    .dataframe thead th {\n",
       "        text-align: right;\n",
       "    }\n",
       "</style>\n",
       "<table border=\"1\" class=\"dataframe\">\n",
       "  <thead>\n",
       "    <tr style=\"text-align: right;\">\n",
       "      <th></th>\n",
       "      <th>token</th>\n",
       "      <th>pos_tag</th>\n",
       "      <th>counts</th>\n",
       "    </tr>\n",
       "  </thead>\n",
       "  <tbody>\n",
       "    <tr>\n",
       "      <th>4014</th>\n",
       "      <td>electoral</td>\n",
       "      <td>ADJ</td>\n",
       "      <td>1</td>\n",
       "    </tr>\n",
       "    <tr>\n",
       "      <th>4247</th>\n",
       "      <td>faddish</td>\n",
       "      <td>ADJ</td>\n",
       "      <td>1</td>\n",
       "    </tr>\n",
       "    <tr>\n",
       "      <th>4246</th>\n",
       "      <td>facts?Case</td>\n",
       "      <td>PROPN</td>\n",
       "      <td>1</td>\n",
       "    </tr>\n",
       "    <tr>\n",
       "      <th>4244</th>\n",
       "      <td>factions).Before</td>\n",
       "      <td>NOUN</td>\n",
       "      <td>1</td>\n",
       "    </tr>\n",
       "    <tr>\n",
       "      <th>4243</th>\n",
       "      <td>factions</td>\n",
       "      <td>NOUN</td>\n",
       "      <td>1</td>\n",
       "    </tr>\n",
       "    <tr>\n",
       "      <th>7611</th>\n",
       "      <td>tries</td>\n",
       "      <td>VERB</td>\n",
       "      <td>1</td>\n",
       "    </tr>\n",
       "    <tr>\n",
       "      <th>4241</th>\n",
       "      <td>facing</td>\n",
       "      <td>VERB</td>\n",
       "      <td>1</td>\n",
       "    </tr>\n",
       "    <tr>\n",
       "      <th>4240</th>\n",
       "      <td>facility</td>\n",
       "      <td>NOUN</td>\n",
       "      <td>1</td>\n",
       "    </tr>\n",
       "    <tr>\n",
       "      <th>4238</th>\n",
       "      <td>facilitate</td>\n",
       "      <td>VERB</td>\n",
       "      <td>1</td>\n",
       "    </tr>\n",
       "    <tr>\n",
       "      <th>4237</th>\n",
       "      <td>facial</td>\n",
       "      <td>ADJ</td>\n",
       "      <td>1</td>\n",
       "    </tr>\n",
       "  </tbody>\n",
       "</table>\n",
       "</div>"
      ],
      "text/plain": [
       "                 token pos_tag  counts\n",
       "4014         electoral     ADJ       1\n",
       "4247           faddish     ADJ       1\n",
       "4246        facts?Case   PROPN       1\n",
       "4244  factions).Before    NOUN       1\n",
       "4243          factions    NOUN       1\n",
       "7611             tries    VERB       1\n",
       "4241            facing    VERB       1\n",
       "4240          facility    NOUN       1\n",
       "4238        facilitate    VERB       1\n",
       "4237            facial     ADJ       1"
      ]
     },
     "execution_count": 77,
     "metadata": {},
     "output_type": "execute_result"
    }
   ],
   "source": [
    "pos_counts_fake = fake_tagsdf.groupby(['token', 'pos_tag']).size().reset_index(name=\"counts\").sort_values(by=\"counts\")\n",
    "pos_counts_fake.head(10)"
   ]
  },
  {
   "cell_type": "code",
   "execution_count": 78,
   "id": "a0ba568f-d3ff-4185-9b34-c47c6519299e",
   "metadata": {},
   "outputs": [
    {
     "data": {
      "text/html": [
       "<div>\n",
       "<style scoped>\n",
       "    .dataframe tbody tr th:only-of-type {\n",
       "        vertical-align: middle;\n",
       "    }\n",
       "\n",
       "    .dataframe tbody tr th {\n",
       "        vertical-align: top;\n",
       "    }\n",
       "\n",
       "    .dataframe thead th {\n",
       "        text-align: right;\n",
       "    }\n",
       "</style>\n",
       "<table border=\"1\" class=\"dataframe\">\n",
       "  <thead>\n",
       "    <tr style=\"text-align: right;\">\n",
       "      <th></th>\n",
       "      <th>token</th>\n",
       "      <th>pos_tag</th>\n",
       "      <th>counts</th>\n",
       "    </tr>\n",
       "  </thead>\n",
       "  <tbody>\n",
       "    <tr>\n",
       "      <th>6671</th>\n",
       "      <td>…</td>\n",
       "      <td>PUNCT</td>\n",
       "      <td>1</td>\n",
       "    </tr>\n",
       "    <tr>\n",
       "      <th>2901</th>\n",
       "      <td>created</td>\n",
       "      <td>VERB</td>\n",
       "      <td>1</td>\n",
       "    </tr>\n",
       "    <tr>\n",
       "      <th>2903</th>\n",
       "      <td>credible</td>\n",
       "      <td>ADJ</td>\n",
       "      <td>1</td>\n",
       "    </tr>\n",
       "    <tr>\n",
       "      <th>2904</th>\n",
       "      <td>credit</td>\n",
       "      <td>NOUN</td>\n",
       "      <td>1</td>\n",
       "    </tr>\n",
       "    <tr>\n",
       "      <th>2905</th>\n",
       "      <td>crew</td>\n",
       "      <td>NOUN</td>\n",
       "      <td>1</td>\n",
       "    </tr>\n",
       "    <tr>\n",
       "      <th>5488</th>\n",
       "      <td>retention</td>\n",
       "      <td>NOUN</td>\n",
       "      <td>1</td>\n",
       "    </tr>\n",
       "    <tr>\n",
       "      <th>2908</th>\n",
       "      <td>crippling</td>\n",
       "      <td>ADJ</td>\n",
       "      <td>1</td>\n",
       "    </tr>\n",
       "    <tr>\n",
       "      <th>5487</th>\n",
       "      <td>retaliation</td>\n",
       "      <td>NOUN</td>\n",
       "      <td>1</td>\n",
       "    </tr>\n",
       "    <tr>\n",
       "      <th>2910</th>\n",
       "      <td>critic</td>\n",
       "      <td>NOUN</td>\n",
       "      <td>1</td>\n",
       "    </tr>\n",
       "    <tr>\n",
       "      <th>5486</th>\n",
       "      <td>retains</td>\n",
       "      <td>VERB</td>\n",
       "      <td>1</td>\n",
       "    </tr>\n",
       "  </tbody>\n",
       "</table>\n",
       "</div>"
      ],
      "text/plain": [
       "            token pos_tag  counts\n",
       "6671            …   PUNCT       1\n",
       "2901      created    VERB       1\n",
       "2903     credible     ADJ       1\n",
       "2904       credit    NOUN       1\n",
       "2905         crew    NOUN       1\n",
       "5488    retention    NOUN       1\n",
       "2908    crippling     ADJ       1\n",
       "5487  retaliation    NOUN       1\n",
       "2910       critic    NOUN       1\n",
       "5486      retains    VERB       1"
      ]
     },
     "execution_count": 78,
     "metadata": {},
     "output_type": "execute_result"
    }
   ],
   "source": [
    "pos_counts_fact = fact_tagsdf.groupby(['token', 'pos_tag']).size().reset_index(name=\"counts\").sort_values(by=\"counts\")\n",
    "pos_counts_fact.head(10)"
   ]
  },
  {
   "cell_type": "code",
   "execution_count": 79,
   "id": "25774435-f73a-47a9-b834-6ca842633bd3",
   "metadata": {},
   "outputs": [
    {
     "data": {
      "text/plain": [
       "pos_tag\n",
       "NOUN     2597\n",
       "VERB     1814\n",
       "PROPN    1657\n",
       "ADJ       876\n",
       "ADV       412\n",
       "NUM       221\n",
       "PRON       99\n",
       "ADP        88\n",
       "AUX        58\n",
       "SCONJ      54\n",
       "Name: token, dtype: int64"
      ]
     },
     "execution_count": 79,
     "metadata": {},
     "output_type": "execute_result"
    }
   ],
   "source": [
    "pos_counts_fake.groupby('pos_tag')['token'].count().sort_values(ascending=False).head(10)"
   ]
  },
  {
   "cell_type": "code",
   "execution_count": 80,
   "id": "7a2d149b-788f-4965-8e7d-f7301c4d8f08",
   "metadata": {},
   "outputs": [
    {
     "data": {
      "text/plain": [
       "pos_tag\n",
       "NOUN     2182\n",
       "VERB     1535\n",
       "PROPN    1387\n",
       "ADJ       753\n",
       "ADV       271\n",
       "NUM       203\n",
       "PRON       81\n",
       "ADP        70\n",
       "AUX        44\n",
       "SCONJ      39\n",
       "Name: token, dtype: int64"
      ]
     },
     "execution_count": 80,
     "metadata": {},
     "output_type": "execute_result"
    }
   ],
   "source": [
    "pos_counts_fact.groupby('pos_tag')['token'].count().sort_values(ascending=False).head(10)"
   ]
  },
  {
   "cell_type": "code",
   "execution_count": 81,
   "id": "f52aca9d-18c1-4b5d-8d6c-922c9e37d023",
   "metadata": {},
   "outputs": [
    {
     "data": {
      "text/html": [
       "<div>\n",
       "<style scoped>\n",
       "    .dataframe tbody tr th:only-of-type {\n",
       "        vertical-align: middle;\n",
       "    }\n",
       "\n",
       "    .dataframe tbody tr th {\n",
       "        vertical-align: top;\n",
       "    }\n",
       "\n",
       "    .dataframe thead th {\n",
       "        text-align: right;\n",
       "    }\n",
       "</style>\n",
       "<table border=\"1\" class=\"dataframe\">\n",
       "  <thead>\n",
       "    <tr style=\"text-align: right;\">\n",
       "      <th></th>\n",
       "      <th>token</th>\n",
       "      <th>pos_tag</th>\n",
       "      <th>counts</th>\n",
       "    </tr>\n",
       "  </thead>\n",
       "  <tbody>\n",
       "    <tr>\n",
       "      <th>4244</th>\n",
       "      <td>factions).Before</td>\n",
       "      <td>NOUN</td>\n",
       "      <td>1</td>\n",
       "    </tr>\n",
       "    <tr>\n",
       "      <th>4243</th>\n",
       "      <td>factions</td>\n",
       "      <td>NOUN</td>\n",
       "      <td>1</td>\n",
       "    </tr>\n",
       "    <tr>\n",
       "      <th>4240</th>\n",
       "      <td>facility</td>\n",
       "      <td>NOUN</td>\n",
       "      <td>1</td>\n",
       "    </tr>\n",
       "    <tr>\n",
       "      <th>4230</th>\n",
       "      <td>fabric</td>\n",
       "      <td>NOUN</td>\n",
       "      <td>1</td>\n",
       "    </tr>\n",
       "    <tr>\n",
       "      <th>4227</th>\n",
       "      <td>eye</td>\n",
       "      <td>NOUN</td>\n",
       "      <td>1</td>\n",
       "    </tr>\n",
       "    <tr>\n",
       "      <th>4226</th>\n",
       "      <td>extremism</td>\n",
       "      <td>NOUN</td>\n",
       "      <td>1</td>\n",
       "    </tr>\n",
       "    <tr>\n",
       "      <th>4219</th>\n",
       "      <td>extension</td>\n",
       "      <td>NOUN</td>\n",
       "      <td>1</td>\n",
       "    </tr>\n",
       "    <tr>\n",
       "      <th>7608</th>\n",
       "      <td>tributes</td>\n",
       "      <td>NOUN</td>\n",
       "      <td>1</td>\n",
       "    </tr>\n",
       "    <tr>\n",
       "      <th>4280</th>\n",
       "      <td>fathers</td>\n",
       "      <td>NOUN</td>\n",
       "      <td>1</td>\n",
       "    </tr>\n",
       "    <tr>\n",
       "      <th>4277</th>\n",
       "      <td>fatality</td>\n",
       "      <td>NOUN</td>\n",
       "      <td>1</td>\n",
       "    </tr>\n",
       "    <tr>\n",
       "      <th>4275</th>\n",
       "      <td>fascist</td>\n",
       "      <td>NOUN</td>\n",
       "      <td>1</td>\n",
       "    </tr>\n",
       "    <tr>\n",
       "      <th>7605</th>\n",
       "      <td>tremble</td>\n",
       "      <td>NOUN</td>\n",
       "      <td>1</td>\n",
       "    </tr>\n",
       "    <tr>\n",
       "      <th>4270</th>\n",
       "      <td>fantasy</td>\n",
       "      <td>NOUN</td>\n",
       "      <td>1</td>\n",
       "    </tr>\n",
       "    <tr>\n",
       "      <th>4269</th>\n",
       "      <td>fans</td>\n",
       "      <td>NOUN</td>\n",
       "      <td>1</td>\n",
       "    </tr>\n",
       "    <tr>\n",
       "      <th>4268</th>\n",
       "      <td>fan</td>\n",
       "      <td>NOUN</td>\n",
       "      <td>1</td>\n",
       "    </tr>\n",
       "  </tbody>\n",
       "</table>\n",
       "</div>"
      ],
      "text/plain": [
       "                 token pos_tag  counts\n",
       "4244  factions).Before    NOUN       1\n",
       "4243          factions    NOUN       1\n",
       "4240          facility    NOUN       1\n",
       "4230            fabric    NOUN       1\n",
       "4227               eye    NOUN       1\n",
       "4226         extremism    NOUN       1\n",
       "4219         extension    NOUN       1\n",
       "7608          tributes    NOUN       1\n",
       "4280           fathers    NOUN       1\n",
       "4277          fatality    NOUN       1\n",
       "4275           fascist    NOUN       1\n",
       "7605           tremble    NOUN       1\n",
       "4270           fantasy    NOUN       1\n",
       "4269              fans    NOUN       1\n",
       "4268               fan    NOUN       1"
      ]
     },
     "execution_count": 81,
     "metadata": {},
     "output_type": "execute_result"
    }
   ],
   "source": [
    "pos_counts_fake[pos_counts_fake.pos_tag == \"NOUN\"][:15]"
   ]
  },
  {
   "cell_type": "code",
   "execution_count": 82,
   "id": "9150fa9c-7ced-43be-922d-5b67ff9061b2",
   "metadata": {},
   "outputs": [
    {
     "data": {
      "text/html": [
       "<div>\n",
       "<style scoped>\n",
       "    .dataframe tbody tr th:only-of-type {\n",
       "        vertical-align: middle;\n",
       "    }\n",
       "\n",
       "    .dataframe tbody tr th {\n",
       "        vertical-align: top;\n",
       "    }\n",
       "\n",
       "    .dataframe thead th {\n",
       "        text-align: right;\n",
       "    }\n",
       "</style>\n",
       "<table border=\"1\" class=\"dataframe\">\n",
       "  <thead>\n",
       "    <tr style=\"text-align: right;\">\n",
       "      <th></th>\n",
       "      <th>token</th>\n",
       "      <th>pos_tag</th>\n",
       "      <th>counts</th>\n",
       "    </tr>\n",
       "  </thead>\n",
       "  <tbody>\n",
       "    <tr>\n",
       "      <th>2904</th>\n",
       "      <td>credit</td>\n",
       "      <td>NOUN</td>\n",
       "      <td>1</td>\n",
       "    </tr>\n",
       "    <tr>\n",
       "      <th>2905</th>\n",
       "      <td>crew</td>\n",
       "      <td>NOUN</td>\n",
       "      <td>1</td>\n",
       "    </tr>\n",
       "    <tr>\n",
       "      <th>5488</th>\n",
       "      <td>retention</td>\n",
       "      <td>NOUN</td>\n",
       "      <td>1</td>\n",
       "    </tr>\n",
       "    <tr>\n",
       "      <th>5487</th>\n",
       "      <td>retaliation</td>\n",
       "      <td>NOUN</td>\n",
       "      <td>1</td>\n",
       "    </tr>\n",
       "    <tr>\n",
       "      <th>2910</th>\n",
       "      <td>critic</td>\n",
       "      <td>NOUN</td>\n",
       "      <td>1</td>\n",
       "    </tr>\n",
       "    <tr>\n",
       "      <th>2913</th>\n",
       "      <td>criticisms</td>\n",
       "      <td>NOUN</td>\n",
       "      <td>1</td>\n",
       "    </tr>\n",
       "    <tr>\n",
       "      <th>5489</th>\n",
       "      <td>rethinking</td>\n",
       "      <td>NOUN</td>\n",
       "      <td>1</td>\n",
       "    </tr>\n",
       "    <tr>\n",
       "      <th>2918</th>\n",
       "      <td>crop</td>\n",
       "      <td>NOUN</td>\n",
       "      <td>1</td>\n",
       "    </tr>\n",
       "    <tr>\n",
       "      <th>2921</th>\n",
       "      <td>crosses</td>\n",
       "      <td>NOUN</td>\n",
       "      <td>1</td>\n",
       "    </tr>\n",
       "    <tr>\n",
       "      <th>2922</th>\n",
       "      <td>crossing</td>\n",
       "      <td>NOUN</td>\n",
       "      <td>1</td>\n",
       "    </tr>\n",
       "    <tr>\n",
       "      <th>2927</th>\n",
       "      <td>cruise</td>\n",
       "      <td>NOUN</td>\n",
       "      <td>1</td>\n",
       "    </tr>\n",
       "    <tr>\n",
       "      <th>2928</th>\n",
       "      <td>crusade</td>\n",
       "      <td>NOUN</td>\n",
       "      <td>1</td>\n",
       "    </tr>\n",
       "    <tr>\n",
       "      <th>2898</th>\n",
       "      <td>craft</td>\n",
       "      <td>NOUN</td>\n",
       "      <td>1</td>\n",
       "    </tr>\n",
       "    <tr>\n",
       "      <th>2852</th>\n",
       "      <td>convocation</td>\n",
       "      <td>NOUN</td>\n",
       "      <td>1</td>\n",
       "    </tr>\n",
       "    <tr>\n",
       "      <th>5503</th>\n",
       "      <td>revelation</td>\n",
       "      <td>NOUN</td>\n",
       "      <td>1</td>\n",
       "    </tr>\n",
       "  </tbody>\n",
       "</table>\n",
       "</div>"
      ],
      "text/plain": [
       "            token pos_tag  counts\n",
       "2904       credit    NOUN       1\n",
       "2905         crew    NOUN       1\n",
       "5488    retention    NOUN       1\n",
       "5487  retaliation    NOUN       1\n",
       "2910       critic    NOUN       1\n",
       "2913   criticisms    NOUN       1\n",
       "5489   rethinking    NOUN       1\n",
       "2918         crop    NOUN       1\n",
       "2921      crosses    NOUN       1\n",
       "2922     crossing    NOUN       1\n",
       "2927       cruise    NOUN       1\n",
       "2928      crusade    NOUN       1\n",
       "2898        craft    NOUN       1\n",
       "2852  convocation    NOUN       1\n",
       "5503   revelation    NOUN       1"
      ]
     },
     "execution_count": 82,
     "metadata": {},
     "output_type": "execute_result"
    }
   ],
   "source": [
    "pos_counts_fact[pos_counts_fact.pos_tag == \"NOUN\"][:15]"
   ]
  },
  {
   "cell_type": "code",
   "execution_count": 84,
   "id": "e70da114-b064-43d4-b83a-480a27ac935b",
   "metadata": {},
   "outputs": [],
   "source": [
    "top_entities_fake = fake_tagsdf[fake_tagsdf['ner_tag'] != \"\"].groupby(['token', 'ner_tag']).size().reset_index(name='counts').sort_values(by='counts', ascending=False)"
   ]
  },
  {
   "cell_type": "code",
   "execution_count": 85,
   "id": "e8a8de71-d8a5-42ea-80a0-54e14e73a382",
   "metadata": {},
   "outputs": [],
   "source": [
    "top_entities_fact = fact_tagsdf[fact_tagsdf['ner_tag'] != \"\"].groupby(['token', 'ner_tag']).size().reset_index(name='counts').sort_values(by='counts', ascending=False)"
   ]
  },
  {
   "cell_type": "code",
   "execution_count": 86,
   "id": "81a22e71-dea1-4899-8a37-ef9150daa4a6",
   "metadata": {},
   "outputs": [],
   "source": [
    "ner_palette = {\n",
    "    'ORG': sns.color_palette(\"Set2\").as_hex() [0],\n",
    "    'GPE': sns.color_palette(\"Set2\").as_hex() [1],\n",
    "    'NORP': sns.color_palette(\"Set2\").as_hex() [2],\n",
    "    'PERSON': sns.color_palette(\"Set2\").as_hex() [3],\n",
    "    'DATE': sns.color_palette(\"Set2\").as_hex() [4], \n",
    "    'CARDINAL': sns.color_palette(\"Set2\").as_hex() [5],\n",
    "    'PERCENT': sns.color_palette(\"Set2\").as_hex() [6]\n",
    "}\n",
    "    \n",
    "    "
   ]
  },
  {
   "cell_type": "code",
   "execution_count": 87,
   "id": "059aa009-9824-4c60-a08f-ead9f2d6d471",
   "metadata": {},
   "outputs": [
    {
     "data": {
      "text/plain": [
       "[Text(0.5, 1.0, 'Most Common Named Entities in Fake News')]"
      ]
     },
     "execution_count": 87,
     "metadata": {},
     "output_type": "execute_result"
    },
    {
     "data": {
      "image/png": "[encoded data removed]",
      "text/plain": [
       "<Figure size 1200x800 with 1 Axes>"
      ]
     },
     "metadata": {},
     "output_type": "display_data"
    }
   ],
   "source": [
    "sns.barplot(\n",
    "    x = 'counts',\n",
    "    y = 'token',\n",
    "    hue = 'ner_tag',\n",
    "    palette = ner_palette,\n",
    "    data = top_entities_fake[:10],\n",
    "    orient = 'h',\n",
    "    dodge = False\n",
    ").set(title=\"Most Common Named Entities in Fake News\")\n",
    "\n",
    "    "
   ]
  },
  {
   "cell_type": "code",
   "execution_count": 88,
   "id": "c711d3af-b3cd-445a-8376-3b17f4beba91",
   "metadata": {},
   "outputs": [
    {
     "data": {
      "text/plain": [
       "[Text(0.5, 1.0, 'Most Common Named Entities in Factual News')]"
      ]
     },
     "execution_count": 88,
     "metadata": {},
     "output_type": "execute_result"
    },
    {
     "data": {
      "image/png": "[encoded data removed]",
      "text/plain": [
       "<Figure size 1200x800 with 1 Axes>"
      ]
     },
     "metadata": {},
     "output_type": "display_data"
    }
   ],
   "source": [
    "sns.barplot(\n",
    "    x = 'counts',\n",
    "    y = 'token',\n",
    "    hue = 'ner_tag',\n",
    "    palette = ner_palette,\n",
    "    data = top_entities_fact[:10],\n",
    "    orient = 'h',\n",
    "    dodge = False\n",
    ").set(title=\"Most Common Named Entities in Factual News\")\n"
   ]
  },
  {
   "cell_type": "code",
   "execution_count": 150,
   "id": "93757460-543e-4e6f-a309-2e8aa43b8bc8",
   "metadata": {},
   "outputs": [
    {
     "data": {
      "text/html": [
       "<div>\n",
       "<style scoped>\n",
       "    .dataframe tbody tr th:only-of-type {\n",
       "        vertical-align: middle;\n",
       "    }\n",
       "\n",
       "    .dataframe tbody tr th {\n",
       "        vertical-align: top;\n",
       "    }\n",
       "\n",
       "    .dataframe thead th {\n",
       "        text-align: right;\n",
       "    }\n",
       "</style>\n",
       "<table border=\"1\" class=\"dataframe\">\n",
       "  <thead>\n",
       "    <tr style=\"text-align: right;\">\n",
       "      <th></th>\n",
       "      <th>title</th>\n",
       "      <th>text</th>\n",
       "      <th>date</th>\n",
       "      <th>fake_or_factual</th>\n",
       "      <th>text_clean</th>\n",
       "    </tr>\n",
       "  </thead>\n",
       "  <tbody>\n",
       "    <tr>\n",
       "      <th>0</th>\n",
       "      <td>HOLLYWEIRD LIB SUSAN SARANDON Compares Muslim ...</td>\n",
       "      <td>There are two small problems with your analogy...</td>\n",
       "      <td>Dec 30, 2015</td>\n",
       "      <td>Fake News</td>\n",
       "      <td>[There, are, two, small, problems, with, your,...</td>\n",
       "    </tr>\n",
       "    <tr>\n",
       "      <th>1</th>\n",
       "      <td>Elijah Cummings Called Trump Out To His Face ...</td>\n",
       "      <td>Buried in Trump s bonkers interview with New Y...</td>\n",
       "      <td>April 6, 2017</td>\n",
       "      <td>Fake News</td>\n",
       "      <td>[Buried, in, Trump, s, bonkers, interview, wit...</td>\n",
       "    </tr>\n",
       "    <tr>\n",
       "      <th>2</th>\n",
       "      <td>Hillary Clinton Says Half Her Cabinet Will Be...</td>\n",
       "      <td>Women make up over 50 percent of this country,...</td>\n",
       "      <td>April 26, 2016</td>\n",
       "      <td>Fake News</td>\n",
       "      <td>[Women, make, up, over, 50, percent, of, this,...</td>\n",
       "    </tr>\n",
       "    <tr>\n",
       "      <th>3</th>\n",
       "      <td>Russian bombing of U.S.-backed forces being di...</td>\n",
       "      <td>WASHINGTON (Reuters) - U.S. Defense Secretary ...</td>\n",
       "      <td>September 18, 2017</td>\n",
       "      <td>Factual News</td>\n",
       "      <td>[U.S., Defense, Secretary, Jim, Mattis, said, ...</td>\n",
       "    </tr>\n",
       "    <tr>\n",
       "      <th>4</th>\n",
       "      <td>Britain says window to restore Northern Irelan...</td>\n",
       "      <td>BELFAST (Reuters) - Northern Ireland s politic...</td>\n",
       "      <td>September 4, 2017</td>\n",
       "      <td>Factual News</td>\n",
       "      <td>[Northern, Ireland, s, political, parties, are...</td>\n",
       "    </tr>\n",
       "  </tbody>\n",
       "</table>\n",
       "</div>"
      ],
      "text/plain": [
       "                                               title  \\\n",
       "0  HOLLYWEIRD LIB SUSAN SARANDON Compares Muslim ...   \n",
       "1   Elijah Cummings Called Trump Out To His Face ...   \n",
       "2   Hillary Clinton Says Half Her Cabinet Will Be...   \n",
       "3  Russian bombing of U.S.-backed forces being di...   \n",
       "4  Britain says window to restore Northern Irelan...   \n",
       "\n",
       "                                                text                 date  \\\n",
       "0  There are two small problems with your analogy...         Dec 30, 2015   \n",
       "1  Buried in Trump s bonkers interview with New Y...        April 6, 2017   \n",
       "2  Women make up over 50 percent of this country,...       April 26, 2016   \n",
       "3  WASHINGTON (Reuters) - U.S. Defense Secretary ...  September 18, 2017    \n",
       "4  BELFAST (Reuters) - Northern Ireland s politic...   September 4, 2017    \n",
       "\n",
       "  fake_or_factual                                         text_clean  \n",
       "0       Fake News  [There, are, two, small, problems, with, your,...  \n",
       "1       Fake News  [Buried, in, Trump, s, bonkers, interview, wit...  \n",
       "2       Fake News  [Women, make, up, over, 50, percent, of, this,...  \n",
       "3    Factual News  [U.S., Defense, Secretary, Jim, Mattis, said, ...  \n",
       "4    Factual News  [Northern, Ireland, s, political, parties, are...  "
      ]
     },
     "execution_count": 150,
     "metadata": {},
     "output_type": "execute_result"
    }
   ],
   "source": [
    "data.head()"
   ]
  },
  {
   "cell_type": "code",
   "execution_count": 148,
   "id": "ff7c673e-8be0-4cf9-b57d-ed9500af1361",
   "metadata": {},
   "outputs": [],
   "source": [
    "data['text_clean'] = data.apply(lambda x: re.sub(r\"^[^-]*-\\s\", \"\", x['text']), axis=1)"
   ]
  },
  {
   "cell_type": "code",
   "execution_count": 92,
   "id": "89e4b5c1-e87f-4de7-b422-861b73b42f1e",
   "metadata": {},
   "outputs": [],
   "source": [
    "data['text_clean'] = data['text_clean'].str.lower()"
   ]
  },
  {
   "cell_type": "code",
   "execution_count": 128,
   "id": "42dea665-687e-4f3a-af45-7c387b3040e9",
   "metadata": {
    "scrolled": true
   },
   "outputs": [],
   "source": [
    "data['text_clean'] = data.apply(lambda x: re.sub(r\"([^\\w\\s])\", \"\", str(x['text_clean'])), axis=1)"
   ]
  },
  {
   "cell_type": "code",
   "execution_count": 146,
   "id": "e851d39d-526c-4afd-b075-29d2965549d4",
   "metadata": {},
   "outputs": [
    {
     "name": "stdout",
     "output_type": "stream",
     "text": [
      "['i', 'me', 'my', 'myself', 'we', 'our', 'ours', 'ourselves', 'you', \"you're\", \"you've\", \"you'll\", \"you'd\", 'your', 'yours', 'yourself', 'yourselves', 'he', 'him', 'his', 'himself', 'she', \"she's\", 'her', 'hers', 'herself', 'it', \"it's\", 'its', 'itself', 'they', 'them', 'their', 'theirs', 'themselves', 'what', 'which', 'who', 'whom', 'this', 'that', \"that'll\", 'these', 'those', 'am', 'is', 'are', 'was', 'were', 'be', 'been', 'being', 'have', 'has', 'had', 'having', 'do', 'does', 'did', 'doing', 'a', 'an', 'the', 'and', 'but', 'if', 'or', 'because', 'as', 'until', 'while', 'of', 'at', 'by', 'for', 'with', 'about', 'against', 'between', 'into', 'through', 'during', 'before', 'after', 'above', 'below', 'to', 'from', 'up', 'down', 'in', 'out', 'on', 'off', 'over', 'under', 'again', 'further', 'then', 'once', 'here', 'there', 'when', 'where', 'why', 'how', 'all', 'any', 'both', 'each', 'few', 'more', 'most', 'other', 'some', 'such', 'no', 'nor', 'not', 'only', 'own', 'same', 'so', 'than', 'too', 'very', 's', 't', 'can', 'will', 'just', 'don', \"don't\", 'should', \"should've\", 'now', 'd', 'll', 'm', 'o', 're', 've', 'y', 'ain', 'aren', \"aren't\", 'couldn', \"couldn't\", 'didn', \"didn't\", 'doesn', \"doesn't\", 'hadn', \"hadn't\", 'hasn', \"hasn't\", 'haven', \"haven't\", 'isn', \"isn't\", 'ma', 'mightn', \"mightn't\", 'mustn', \"mustn't\", 'needn', \"needn't\", 'shan', \"shan't\", 'shouldn', \"shouldn't\", 'wasn', \"wasn't\", 'weren', \"weren't\", 'won', \"won't\", 'wouldn', \"wouldn't\"]\n"
     ]
    }
   ],
   "source": [
    "en_stopwords = stopwords.words('english')\n",
    "print(en_stopwords)"
   ]
  },
  {
   "cell_type": "code",
   "execution_count": 134,
   "id": "de8b7eac-35b3-485c-be58-5c9175d2ec06",
   "metadata": {},
   "outputs": [],
   "source": [
    "data['text_clean'] = data['text_clean'].apply(lambda x: ' '.join([word for word in x.split() if word not in en_stopwords])) "
   ]
  },
  {
   "cell_type": "code",
   "execution_count": 149,
   "id": "e3a26b4d-bfef-48f8-b11d-746a6bed91ea",
   "metadata": {},
   "outputs": [],
   "source": [
    "data['text_clean'] = data.apply(lambda x: word_tokenize(x['text_clean']), axis=1)"
   ]
  },
  {
   "cell_type": "code",
   "execution_count": 145,
   "id": "941f81b2-8fc5-4eb3-bfa3-553e294616ee",
   "metadata": {},
   "outputs": [],
   "source": [
    "lemmatizer = WordNetLemmatizer()\n",
    "data['text_clean'] = data['text_clean'].apply(lambda tokens: [lemmatizer.lemmatize(token) for token in tokens])"
   ]
  },
  {
   "cell_type": "code",
   "execution_count": 151,
   "id": "03d75893-db3d-4c43-b9dc-bc273f7de50b",
   "metadata": {},
   "outputs": [],
   "source": [
    "tokens_clean = sum(data['text_clean'], [])"
   ]
  },
  {
   "cell_type": "code",
   "execution_count": 152,
   "id": "29fe671c-29e3-4aa2-abc4-6416c5f9e45e",
   "metadata": {},
   "outputs": [
    {
     "name": "stdout",
     "output_type": "stream",
     "text": [
      "(the,)     3727\n",
      "(,,)       3597\n",
      "(.,)       2419\n",
      "(to,)      2132\n",
      "(of,)      1806\n",
      "(and,)     1628\n",
      "(a,)       1592\n",
      "(in,)      1337\n",
      "(s,)        952\n",
      "(that,)     938\n",
      "Name: count, dtype: int64\n"
     ]
    }
   ],
   "source": [
    "unigrams = (pd.Series(nltk.ngrams(tokens_clean, 1)).value_counts())\n",
    "print(unigrams[:10])"
   ]
  },
  {
   "cell_type": "code",
   "execution_count": 153,
   "id": "ac5f88f4-ead5-41f3-a035-78eb3fad88f4",
   "metadata": {},
   "outputs": [
    {
     "data": {
      "text/plain": [
       "[Text(0.5, 1.0, 'Most Common Unigrams After Preprocessing')]"
      ]
     },
     "execution_count": 153,
     "metadata": {},
     "output_type": "execute_result"
    },
    {
     "data": {
      "image/png": "[encoded data removed]",
      "text/plain": [
       "<Figure size 1200x800 with 1 Axes>"
      ]
     },
     "metadata": {},
     "output_type": "display_data"
    }
   ],
   "source": [
    "sns.barplot(x = unigrams.values[:10],\n",
    "            y = unigrams.index[:10],\n",
    "            orient = 'h',\n",
    "            palette=[default_plot_colour]\n",
    ").set(title = \"Most Common Unigrams After Preprocessing\")"
   ]
  },
  {
   "cell_type": "code",
   "execution_count": 155,
   "id": "3b1c84b7-b6c4-4967-a638-0f717828d5bd",
   "metadata": {},
   "outputs": [
    {
     "name": "stdout",
     "output_type": "stream",
     "text": [
      "(of, the)     369\n",
      "(in, the)     334\n",
      "(., The)      321\n",
      "(’, s)        283\n",
      "(,, the)      237\n",
      "(,, and)      235\n",
      "(to, the)     181\n",
      "(., “)        155\n",
      "(on, the)     148\n",
      "(for, the)    136\n",
      "Name: count, dtype: int64\n"
     ]
    }
   ],
   "source": [
    "bigrams = (pd.Series(nltk.ngrams(tokens_clean, 2)).value_counts())\n",
    "print(bigrams[:10])"
   ]
  },
  {
   "cell_type": "code",
   "execution_count": 156,
   "id": "c45c8822-0379-4124-b9ea-844c1f4e6e8a",
   "metadata": {},
   "outputs": [],
   "source": [
    "vader_sentiment = SentimentIntensityAnalyzer()\n"
   ]
  },
  {
   "cell_type": "code",
   "execution_count": 157,
   "id": "83fb8d94-d13d-4da0-adb8-ba21708f6b2d",
   "metadata": {},
   "outputs": [],
   "source": [
    "data['vader_sentiment_score'] = data['text'].apply(lambda x: vader_sentiment.polarity_scores(x)['compound'])"
   ]
  },
  {
   "cell_type": "code",
   "execution_count": 158,
   "id": "51b60897-c90b-4836-b6c1-4f6247242b9c",
   "metadata": {},
   "outputs": [
    {
     "data": {
      "text/html": [
       "<div>\n",
       "<style scoped>\n",
       "    .dataframe tbody tr th:only-of-type {\n",
       "        vertical-align: middle;\n",
       "    }\n",
       "\n",
       "    .dataframe tbody tr th {\n",
       "        vertical-align: top;\n",
       "    }\n",
       "\n",
       "    .dataframe thead th {\n",
       "        text-align: right;\n",
       "    }\n",
       "</style>\n",
       "<table border=\"1\" class=\"dataframe\">\n",
       "  <thead>\n",
       "    <tr style=\"text-align: right;\">\n",
       "      <th></th>\n",
       "      <th>title</th>\n",
       "      <th>text</th>\n",
       "      <th>date</th>\n",
       "      <th>fake_or_factual</th>\n",
       "      <th>text_clean</th>\n",
       "      <th>vader_sentiment_score</th>\n",
       "    </tr>\n",
       "  </thead>\n",
       "  <tbody>\n",
       "    <tr>\n",
       "      <th>0</th>\n",
       "      <td>HOLLYWEIRD LIB SUSAN SARANDON Compares Muslim ...</td>\n",
       "      <td>There are two small problems with your analogy...</td>\n",
       "      <td>Dec 30, 2015</td>\n",
       "      <td>Fake News</td>\n",
       "      <td>[There, are, two, small, problems, with, your,...</td>\n",
       "      <td>-0.3660</td>\n",
       "    </tr>\n",
       "    <tr>\n",
       "      <th>1</th>\n",
       "      <td>Elijah Cummings Called Trump Out To His Face ...</td>\n",
       "      <td>Buried in Trump s bonkers interview with New Y...</td>\n",
       "      <td>April 6, 2017</td>\n",
       "      <td>Fake News</td>\n",
       "      <td>[Buried, in, Trump, s, bonkers, interview, wit...</td>\n",
       "      <td>-0.8197</td>\n",
       "    </tr>\n",
       "    <tr>\n",
       "      <th>2</th>\n",
       "      <td>Hillary Clinton Says Half Her Cabinet Will Be...</td>\n",
       "      <td>Women make up over 50 percent of this country,...</td>\n",
       "      <td>April 26, 2016</td>\n",
       "      <td>Fake News</td>\n",
       "      <td>[Women, make, up, over, 50, percent, of, this,...</td>\n",
       "      <td>0.9779</td>\n",
       "    </tr>\n",
       "    <tr>\n",
       "      <th>3</th>\n",
       "      <td>Russian bombing of U.S.-backed forces being di...</td>\n",
       "      <td>WASHINGTON (Reuters) - U.S. Defense Secretary ...</td>\n",
       "      <td>September 18, 2017</td>\n",
       "      <td>Factual News</td>\n",
       "      <td>[U.S., Defense, Secretary, Jim, Mattis, said, ...</td>\n",
       "      <td>-0.3400</td>\n",
       "    </tr>\n",
       "    <tr>\n",
       "      <th>4</th>\n",
       "      <td>Britain says window to restore Northern Irelan...</td>\n",
       "      <td>BELFAST (Reuters) - Northern Ireland s politic...</td>\n",
       "      <td>September 4, 2017</td>\n",
       "      <td>Factual News</td>\n",
       "      <td>[Northern, Ireland, s, political, parties, are...</td>\n",
       "      <td>0.8590</td>\n",
       "    </tr>\n",
       "  </tbody>\n",
       "</table>\n",
       "</div>"
      ],
      "text/plain": [
       "                                               title  \\\n",
       "0  HOLLYWEIRD LIB SUSAN SARANDON Compares Muslim ...   \n",
       "1   Elijah Cummings Called Trump Out To His Face ...   \n",
       "2   Hillary Clinton Says Half Her Cabinet Will Be...   \n",
       "3  Russian bombing of U.S.-backed forces being di...   \n",
       "4  Britain says window to restore Northern Irelan...   \n",
       "\n",
       "                                                text                 date  \\\n",
       "0  There are two small problems with your analogy...         Dec 30, 2015   \n",
       "1  Buried in Trump s bonkers interview with New Y...        April 6, 2017   \n",
       "2  Women make up over 50 percent of this country,...       April 26, 2016   \n",
       "3  WASHINGTON (Reuters) - U.S. Defense Secretary ...  September 18, 2017    \n",
       "4  BELFAST (Reuters) - Northern Ireland s politic...   September 4, 2017    \n",
       "\n",
       "  fake_or_factual                                         text_clean  \\\n",
       "0       Fake News  [There, are, two, small, problems, with, your,...   \n",
       "1       Fake News  [Buried, in, Trump, s, bonkers, interview, wit...   \n",
       "2       Fake News  [Women, make, up, over, 50, percent, of, this,...   \n",
       "3    Factual News  [U.S., Defense, Secretary, Jim, Mattis, said, ...   \n",
       "4    Factual News  [Northern, Ireland, s, political, parties, are...   \n",
       "\n",
       "   vader_sentiment_score  \n",
       "0                -0.3660  \n",
       "1                -0.8197  \n",
       "2                 0.9779  \n",
       "3                -0.3400  \n",
       "4                 0.8590  "
      ]
     },
     "execution_count": 158,
     "metadata": {},
     "output_type": "execute_result"
    }
   ],
   "source": [
    "data.head()"
   ]
  },
  {
   "cell_type": "code",
   "execution_count": 159,
   "id": "107ed2ed-dd82-4436-853d-39522df0d82e",
   "metadata": {},
   "outputs": [],
   "source": [
    "bins = [-1, -0.1, 0.1, 1]\n",
    "names = ['negative', 'neutral', 'positive']"
   ]
  },
  {
   "cell_type": "code",
   "execution_count": 160,
   "id": "0052cfa7-07fd-4cd1-a83a-63859d3af2ef",
   "metadata": {},
   "outputs": [],
   "source": [
    "data['vader_sentiment_label'] = pd.cut(data['vader_sentiment_score'], bins, labels=names)"
   ]
  },
  {
   "cell_type": "code",
   "execution_count": 161,
   "id": "b0b6f0ec-b205-45a6-97fd-c96fcb6ce580",
   "metadata": {},
   "outputs": [
    {
     "data": {
      "text/html": [
       "<div>\n",
       "<style scoped>\n",
       "    .dataframe tbody tr th:only-of-type {\n",
       "        vertical-align: middle;\n",
       "    }\n",
       "\n",
       "    .dataframe tbody tr th {\n",
       "        vertical-align: top;\n",
       "    }\n",
       "\n",
       "    .dataframe thead th {\n",
       "        text-align: right;\n",
       "    }\n",
       "</style>\n",
       "<table border=\"1\" class=\"dataframe\">\n",
       "  <thead>\n",
       "    <tr style=\"text-align: right;\">\n",
       "      <th></th>\n",
       "      <th>title</th>\n",
       "      <th>text</th>\n",
       "      <th>date</th>\n",
       "      <th>fake_or_factual</th>\n",
       "      <th>text_clean</th>\n",
       "      <th>vader_sentiment_score</th>\n",
       "      <th>vader_sentiment_label</th>\n",
       "    </tr>\n",
       "  </thead>\n",
       "  <tbody>\n",
       "    <tr>\n",
       "      <th>0</th>\n",
       "      <td>HOLLYWEIRD LIB SUSAN SARANDON Compares Muslim ...</td>\n",
       "      <td>There are two small problems with your analogy...</td>\n",
       "      <td>Dec 30, 2015</td>\n",
       "      <td>Fake News</td>\n",
       "      <td>[There, are, two, small, problems, with, your,...</td>\n",
       "      <td>-0.3660</td>\n",
       "      <td>negative</td>\n",
       "    </tr>\n",
       "    <tr>\n",
       "      <th>1</th>\n",
       "      <td>Elijah Cummings Called Trump Out To His Face ...</td>\n",
       "      <td>Buried in Trump s bonkers interview with New Y...</td>\n",
       "      <td>April 6, 2017</td>\n",
       "      <td>Fake News</td>\n",
       "      <td>[Buried, in, Trump, s, bonkers, interview, wit...</td>\n",
       "      <td>-0.8197</td>\n",
       "      <td>negative</td>\n",
       "    </tr>\n",
       "    <tr>\n",
       "      <th>2</th>\n",
       "      <td>Hillary Clinton Says Half Her Cabinet Will Be...</td>\n",
       "      <td>Women make up over 50 percent of this country,...</td>\n",
       "      <td>April 26, 2016</td>\n",
       "      <td>Fake News</td>\n",
       "      <td>[Women, make, up, over, 50, percent, of, this,...</td>\n",
       "      <td>0.9779</td>\n",
       "      <td>positive</td>\n",
       "    </tr>\n",
       "    <tr>\n",
       "      <th>3</th>\n",
       "      <td>Russian bombing of U.S.-backed forces being di...</td>\n",
       "      <td>WASHINGTON (Reuters) - U.S. Defense Secretary ...</td>\n",
       "      <td>September 18, 2017</td>\n",
       "      <td>Factual News</td>\n",
       "      <td>[U.S., Defense, Secretary, Jim, Mattis, said, ...</td>\n",
       "      <td>-0.3400</td>\n",
       "      <td>negative</td>\n",
       "    </tr>\n",
       "    <tr>\n",
       "      <th>4</th>\n",
       "      <td>Britain says window to restore Northern Irelan...</td>\n",
       "      <td>BELFAST (Reuters) - Northern Ireland s politic...</td>\n",
       "      <td>September 4, 2017</td>\n",
       "      <td>Factual News</td>\n",
       "      <td>[Northern, Ireland, s, political, parties, are...</td>\n",
       "      <td>0.8590</td>\n",
       "      <td>positive</td>\n",
       "    </tr>\n",
       "  </tbody>\n",
       "</table>\n",
       "</div>"
      ],
      "text/plain": [
       "                                               title  \\\n",
       "0  HOLLYWEIRD LIB SUSAN SARANDON Compares Muslim ...   \n",
       "1   Elijah Cummings Called Trump Out To His Face ...   \n",
       "2   Hillary Clinton Says Half Her Cabinet Will Be...   \n",
       "3  Russian bombing of U.S.-backed forces being di...   \n",
       "4  Britain says window to restore Northern Irelan...   \n",
       "\n",
       "                                                text                 date  \\\n",
       "0  There are two small problems with your analogy...         Dec 30, 2015   \n",
       "1  Buried in Trump s bonkers interview with New Y...        April 6, 2017   \n",
       "2  Women make up over 50 percent of this country,...       April 26, 2016   \n",
       "3  WASHINGTON (Reuters) - U.S. Defense Secretary ...  September 18, 2017    \n",
       "4  BELFAST (Reuters) - Northern Ireland s politic...   September 4, 2017    \n",
       "\n",
       "  fake_or_factual                                         text_clean  \\\n",
       "0       Fake News  [There, are, two, small, problems, with, your,...   \n",
       "1       Fake News  [Buried, in, Trump, s, bonkers, interview, wit...   \n",
       "2       Fake News  [Women, make, up, over, 50, percent, of, this,...   \n",
       "3    Factual News  [U.S., Defense, Secretary, Jim, Mattis, said, ...   \n",
       "4    Factual News  [Northern, Ireland, s, political, parties, are...   \n",
       "\n",
       "   vader_sentiment_score vader_sentiment_label  \n",
       "0                -0.3660              negative  \n",
       "1                -0.8197              negative  \n",
       "2                 0.9779              positive  \n",
       "3                -0.3400              negative  \n",
       "4                 0.8590              positive  "
      ]
     },
     "execution_count": 161,
     "metadata": {},
     "output_type": "execute_result"
    }
   ],
   "source": [
    "data.head()"
   ]
  },
  {
   "cell_type": "code",
   "execution_count": 162,
   "id": "0c5bf386-3cc5-4cda-910d-3a7513195708",
   "metadata": {},
   "outputs": [
    {
     "data": {
      "text/plain": [
       "<Axes: xlabel='vader_sentiment_label'>"
      ]
     },
     "execution_count": 162,
     "metadata": {},
     "output_type": "execute_result"
    },
    {
     "data": {
      "image/png": "[encoded data removed]",
      "text/plain": [
       "<Figure size 1200x800 with 1 Axes>"
      ]
     },
     "metadata": {},
     "output_type": "display_data"
    }
   ],
   "source": [
    "data['vader_sentiment_label'].value_counts().plot.bar(color=default_plot_colour)"
   ]
  },
  {
   "cell_type": "code",
   "execution_count": 165,
   "id": "3d5f3cd6-9752-45f6-a50d-273303f77cf1",
   "metadata": {},
   "outputs": [
    {
     "data": {
      "text/plain": [
       "[Text(0.5, 1.0, 'Sentiment by News Type')]"
      ]
     },
     "execution_count": 165,
     "metadata": {},
     "output_type": "execute_result"
    },
    {
     "data": {
      "image/png": "[encoded data removed]",
      "text/plain": [
       "<Figure size 1200x800 with 1 Axes>"
      ]
     },
     "metadata": {},
     "output_type": "display_data"
    }
   ],
   "source": [
    "sns.countplot(\n",
    "    x = 'fake_or_factual',\n",
    "    hue = 'vader_sentiment_label',\n",
    "    palette = sns.color_palette(\"hls\"),\n",
    "    data = data\n",
    ").set(title = \"Sentiment by News Type\")"
   ]
  },
  {
   "cell_type": "code",
   "execution_count": 166,
   "id": "a80d4d6e-a414-4502-ab92-e808a799eb08",
   "metadata": {},
   "outputs": [],
   "source": [
    "fake_news_text = data[data['fake_or_factual'] == \"Fake News\"]['text_clean'].reset_index(drop=True)"
   ]
  },
  {
   "cell_type": "code",
   "execution_count": 167,
   "id": "c2202254-68b2-42e5-9adc-3efa9e6b3489",
   "metadata": {},
   "outputs": [],
   "source": [
    "dictionary_fake = corpora.Dictionary(fake_news_text)"
   ]
  },
  {
   "cell_type": "code",
   "execution_count": 168,
   "id": "a5332eda-3c05-40ef-9b0d-01602802d57b",
   "metadata": {},
   "outputs": [],
   "source": [
    "doc_term_fake = [dictionary_fake.doc2bow(text) for text in fake_news_text]"
   ]
  },
  {
   "cell_type": "code",
   "execution_count": 169,
   "id": "7e1d7770-5226-41f5-be10-c86d072ab521",
   "metadata": {},
   "outputs": [],
   "source": [
    "coherence_values = []\n",
    "model_list = []\n",
    "\n",
    "min_topics = 2\n",
    "max_topics = 11\n",
    "\n",
    "for num_topics_i in range(min_topics, max_topics+1):\n",
    "    model = gensim.models.LdaModel(doc_term_fake, num_topics_i, id2word = dictionary_fake)\n",
    "    model_list.append(model)\n",
    "    coherence_model = CoherenceModel(model=model, texts=fake_news_text, dictionary=dictionary_fake, coherence='c_v')\n",
    "    coherence_values.append(coherence_model.get_coherence())"
   ]
  },
  {
   "cell_type": "code",
   "execution_count": 175,
   "id": "95684a70-038f-4cc7-bce0-3ade6025b8c0",
   "metadata": {},
   "outputs": [
    {
     "data": {
      "image/png": "[encoded data removed]",
      "text/plain": [
       "<Figure size 1200x800 with 1 Axes>"
      ]
     },
     "metadata": {},
     "output_type": "display_data"
    }
   ],
   "source": [
    "plt.plot(range(min_topics, max_topics+1), coherence_values)\n",
    "plt.xlabel(\"Number of Topics\")\n",
    "plt.ylabel(\"Coherence Scores\")\n",
    "plt.legend((\"coherence_values\"), loc='best')\n",
    "plt.show()"
   ]
  },
  {
   "cell_type": "code",
   "execution_count": 176,
   "id": "24c17c2b-f4b9-4665-af70-480cc2e78dad",
   "metadata": {},
   "outputs": [],
   "source": [
    "num_topics_lda = 7\n",
    "lda_model = gensim.models.LdaModel(corpus=doc_term_fake, id2word=dictionary_fake, num_topics=num_topics_lda)"
   ]
  },
  {
   "cell_type": "code",
   "execution_count": 177,
   "id": "956e9e60-e412-41fa-9336-3fb663be22ef",
   "metadata": {},
   "outputs": [
    {
     "data": {
      "text/plain": [
       "[(0,\n",
       "  '0.042*\"the\" + 0.026*\",\" + 0.024*\"to\" + 0.023*\".\" + 0.023*\"of\" + 0.017*\"a\" + 0.017*\"and\" + 0.014*\"in\" + 0.011*\"s\" + 0.010*\"is\"'),\n",
       " (1,\n",
       "  '0.049*\",\" + 0.032*\"the\" + 0.022*\"to\" + 0.020*\".\" + 0.018*\"a\" + 0.017*\"and\" + 0.016*\"that\" + 0.016*\"of\" + 0.015*\"in\" + 0.012*\"is\"'),\n",
       " (2,\n",
       "  '0.029*\"the\" + 0.021*\",\" + 0.019*\".\" + 0.019*\"to\" + 0.015*\"of\" + 0.014*\"and\" + 0.013*\"a\" + 0.012*\"in\" + 0.009*\"that\" + 0.008*\"for\"'),\n",
       " (3,\n",
       "  '0.031*\",\" + 0.025*\".\" + 0.022*\"the\" + 0.019*\"to\" + 0.018*\"a\" + 0.015*\"of\" + 0.012*\"and\" + 0.010*\"s\" + 0.010*\"is\" + 0.009*\"that\"'),\n",
       " (4,\n",
       "  '0.047*\",\" + 0.044*\"the\" + 0.024*\"to\" + 0.022*\"and\" + 0.018*\"of\" + 0.018*\".\" + 0.016*\"a\" + 0.014*\"in\" + 0.011*\"s\" + 0.011*\"that\"'),\n",
       " (5,\n",
       "  '0.028*\".\" + 0.027*\",\" + 0.022*\"the\" + 0.018*\"to\" + 0.012*\"of\" + 0.011*\"and\" + 0.010*\"s\" + 0.009*\"in\" + 0.008*\"that\" + 0.008*\"a\"'),\n",
       " (6,\n",
       "  '0.034*\"the\" + 0.029*\",\" + 0.027*\".\" + 0.023*\"to\" + 0.022*\"of\" + 0.016*\"a\" + 0.013*\"in\" + 0.012*\"and\" + 0.009*\"that\" + 0.006*\"s\"')]"
      ]
     },
     "execution_count": 177,
     "metadata": {},
     "output_type": "execute_result"
    }
   ],
   "source": [
    "lda_model.print_topics(num_topics = num_topics_lda, num_words=10)"
   ]
  },
  {
   "cell_type": "code",
   "execution_count": 178,
   "id": "67d772b9-1d11-4276-a2e2-6d3c4e49365b",
   "metadata": {},
   "outputs": [],
   "source": [
    "def tfidf_corpus(doc_term_matrix):\n",
    "    tfidf = TfidfModel(corpus = doc_term_matrix, normalize = True)\n",
    "    corpus_tfidf = tfidf[doc_term_matrix]\n",
    "    return corpus_tfidf"
   ]
  },
  {
   "cell_type": "code",
   "execution_count": 188,
   "id": "9381cf15-e9b9-4a74-8ab2-bc0d20194ea4",
   "metadata": {},
   "outputs": [],
   "source": [
    "def get_coherence_scores(corpus, dictionary, text, min_topics, max_topics):\n",
    "    coherence_values = []\n",
    "    model_list = []\n",
    "    for num_topics_i in range(min_topics, max_topics+1):\n",
    "        model = LsiModel(corpus, num_topics = num_topics_i, id2word = dictionary)\n",
    "        model_list.append(model)\n",
    "        coherence_model = CoherenceModel(model = model, texts=text, dictionary=dictionary, coherence = 'c_v')\n",
    "        coherence_values.append(coherence_model.get_coherence())\n",
    "\n",
    "    plt.plot(range(min_topics, max_topics+1), coherence_values)\n",
    "    plt.xlabel(\"Number of Topics\")\n",
    "    plt.ylabel(\"Coherence score\")\n",
    "    plt.legend((\"coherence_values\"), loc=\"best\")\n",
    "    plt.grid(True)\n",
    "    plt.show()"
   ]
  },
  {
   "cell_type": "code",
   "execution_count": 181,
   "id": "357aa810-f6cb-4122-9bb1-e5649017612d",
   "metadata": {},
   "outputs": [],
   "source": [
    "corpus_tfidf_fake = tfidf_corpus(doc_term_fake)"
   ]
  },
  {
   "cell_type": "code",
   "execution_count": 185,
   "id": "012f7fd5-a017-45f0-b9ec-e4a9d01c7f4f",
   "metadata": {},
   "outputs": [
    {
     "data": {
      "image/png": "[encoded data removed]",
      "text/plain": [
       "<Figure size 1200x800 with 1 Axes>"
      ]
     },
     "metadata": {},
     "output_type": "display_data"
    }
   ],
   "source": [
    "get_coherence_scores(corpus_tfidf_fake, dictionary_fake, fake_news_text, min_topics=2, max_topics=11)"
   ]
  },
  {
   "cell_type": "code",
   "execution_count": 189,
   "id": "8b60bcf7-c095-4f77-829b-5f5c3c1270e0",
   "metadata": {},
   "outputs": [],
   "source": [
    "lsa_model = LsiModel(corpus_tfidf_fake, id2word=dictionary_fake, num_topics = 7)"
   ]
  },
  {
   "cell_type": "code",
   "execution_count": 191,
   "id": "f7c613ac-fe2c-49d6-8ed7-09839d61eb58",
   "metadata": {},
   "outputs": [
    {
     "data": {
      "text/plain": [
       "[(0,\n",
       "  '0.166*\"Trump\" + 0.114*\"Clinton\" + 0.105*\"he\" + 0.105*\"I\" + 0.093*\"his\" + 0.090*\"her\" + 0.081*\"Hillary\" + 0.080*\"Obama\" + 0.076*\"she\" + 0.072*\",\"'),\n",
       " (1,\n",
       "  '0.286*\"ACR\" + 0.260*\"PM\" + 0.210*\"Boiler\" + 0.190*\"Room\" + 0.187*\"broadcast\" + 0.155*\"|\" + 0.144*\"animals\" + 0.140*\"ROOM\" + 0.131*\"BOILER\" + 0.113*\"Join\"'),\n",
       " (2,\n",
       "  '-0.600*\"Flynn\" + -0.175*\"immunity\" + -0.173*\"@\" + -0.119*\"Nana\" + -0.117*\"March\" + -0.106*\"30\" + -0.093*\"Mr.\" + -0.089*\"hey\" + -0.088*\"Michael\" + -0.083*\"exchange\"'),\n",
       " (3,\n",
       "  '0.265*\"Clinton\" + 0.164*\"Hillary\" + 0.116*\"Sanders\" + 0.109*\"her\" + 0.106*\"women\" + 0.105*\"campaign\" + 0.094*\"debate\" + 0.078*\"Rich\" + 0.073*\"Stone\" + 0.073*\"conference\"'),\n",
       " (4,\n",
       "  '-0.203*\"Trump\" + -0.131*\"November\" + -0.130*\"@\" + -0.123*\"8\" + -0.122*\"#\" + 0.114*\"Russian\" + -0.104*\"Cruz\" + 0.093*\"op-ed\" + -0.089*\"Noah\" + 0.089*\"records\"'),\n",
       " (5,\n",
       "  '0.139*\"conference\" + -0.131*\"November\" + -0.121*\"@\" + -0.118*\"school\" + -0.118*\"#\" + 0.105*\"Putin\" + -0.100*\"8\" + 0.096*\"press\" + -0.087*\"tax\" + 0.086*\"Obama\"'),\n",
       " (6,\n",
       "  '-0.312*\"conference\" + -0.221*\"press\" + -0.172*\"Hannity\" + -0.172*\"Sean\" + -0.172*\"Levin\" + 0.168*\"Flynn\" + -0.160*\"Mark\" + -0.153*\"discussing\" + -0.139*\"Iowa\" + -0.131*\"immigration\"')]"
      ]
     },
     "execution_count": 191,
     "metadata": {},
     "output_type": "execute_result"
    }
   ],
   "source": [
    "lsa_model.print_topics()"
   ]
  },
  {
   "cell_type": "code",
   "execution_count": 192,
   "id": "f3acf0e6-2e67-467f-ab6d-bbc0d2f44cbf",
   "metadata": {},
   "outputs": [
    {
     "data": {
      "text/html": [
       "<div>\n",
       "<style scoped>\n",
       "    .dataframe tbody tr th:only-of-type {\n",
       "        vertical-align: middle;\n",
       "    }\n",
       "\n",
       "    .dataframe tbody tr th {\n",
       "        vertical-align: top;\n",
       "    }\n",
       "\n",
       "    .dataframe thead th {\n",
       "        text-align: right;\n",
       "    }\n",
       "</style>\n",
       "<table border=\"1\" class=\"dataframe\">\n",
       "  <thead>\n",
       "    <tr style=\"text-align: right;\">\n",
       "      <th></th>\n",
       "      <th>title</th>\n",
       "      <th>text</th>\n",
       "      <th>date</th>\n",
       "      <th>fake_or_factual</th>\n",
       "      <th>text_clean</th>\n",
       "      <th>vader_sentiment_score</th>\n",
       "      <th>vader_sentiment_label</th>\n",
       "    </tr>\n",
       "  </thead>\n",
       "  <tbody>\n",
       "    <tr>\n",
       "      <th>0</th>\n",
       "      <td>HOLLYWEIRD LIB SUSAN SARANDON Compares Muslim ...</td>\n",
       "      <td>There are two small problems with your analogy...</td>\n",
       "      <td>Dec 30, 2015</td>\n",
       "      <td>Fake News</td>\n",
       "      <td>[There, are, two, small, problems, with, your,...</td>\n",
       "      <td>-0.3660</td>\n",
       "      <td>negative</td>\n",
       "    </tr>\n",
       "    <tr>\n",
       "      <th>1</th>\n",
       "      <td>Elijah Cummings Called Trump Out To His Face ...</td>\n",
       "      <td>Buried in Trump s bonkers interview with New Y...</td>\n",
       "      <td>April 6, 2017</td>\n",
       "      <td>Fake News</td>\n",
       "      <td>[Buried, in, Trump, s, bonkers, interview, wit...</td>\n",
       "      <td>-0.8197</td>\n",
       "      <td>negative</td>\n",
       "    </tr>\n",
       "    <tr>\n",
       "      <th>2</th>\n",
       "      <td>Hillary Clinton Says Half Her Cabinet Will Be...</td>\n",
       "      <td>Women make up over 50 percent of this country,...</td>\n",
       "      <td>April 26, 2016</td>\n",
       "      <td>Fake News</td>\n",
       "      <td>[Women, make, up, over, 50, percent, of, this,...</td>\n",
       "      <td>0.9779</td>\n",
       "      <td>positive</td>\n",
       "    </tr>\n",
       "    <tr>\n",
       "      <th>3</th>\n",
       "      <td>Russian bombing of U.S.-backed forces being di...</td>\n",
       "      <td>WASHINGTON (Reuters) - U.S. Defense Secretary ...</td>\n",
       "      <td>September 18, 2017</td>\n",
       "      <td>Factual News</td>\n",
       "      <td>[U.S., Defense, Secretary, Jim, Mattis, said, ...</td>\n",
       "      <td>-0.3400</td>\n",
       "      <td>negative</td>\n",
       "    </tr>\n",
       "    <tr>\n",
       "      <th>4</th>\n",
       "      <td>Britain says window to restore Northern Irelan...</td>\n",
       "      <td>BELFAST (Reuters) - Northern Ireland s politic...</td>\n",
       "      <td>September 4, 2017</td>\n",
       "      <td>Factual News</td>\n",
       "      <td>[Northern, Ireland, s, political, parties, are...</td>\n",
       "      <td>0.8590</td>\n",
       "      <td>positive</td>\n",
       "    </tr>\n",
       "  </tbody>\n",
       "</table>\n",
       "</div>"
      ],
      "text/plain": [
       "                                               title  \\\n",
       "0  HOLLYWEIRD LIB SUSAN SARANDON Compares Muslim ...   \n",
       "1   Elijah Cummings Called Trump Out To His Face ...   \n",
       "2   Hillary Clinton Says Half Her Cabinet Will Be...   \n",
       "3  Russian bombing of U.S.-backed forces being di...   \n",
       "4  Britain says window to restore Northern Irelan...   \n",
       "\n",
       "                                                text                 date  \\\n",
       "0  There are two small problems with your analogy...         Dec 30, 2015   \n",
       "1  Buried in Trump s bonkers interview with New Y...        April 6, 2017   \n",
       "2  Women make up over 50 percent of this country,...       April 26, 2016   \n",
       "3  WASHINGTON (Reuters) - U.S. Defense Secretary ...  September 18, 2017    \n",
       "4  BELFAST (Reuters) - Northern Ireland s politic...   September 4, 2017    \n",
       "\n",
       "  fake_or_factual                                         text_clean  \\\n",
       "0       Fake News  [There, are, two, small, problems, with, your,...   \n",
       "1       Fake News  [Buried, in, Trump, s, bonkers, interview, wit...   \n",
       "2       Fake News  [Women, make, up, over, 50, percent, of, this,...   \n",
       "3    Factual News  [U.S., Defense, Secretary, Jim, Mattis, said, ...   \n",
       "4    Factual News  [Northern, Ireland, s, political, parties, are...   \n",
       "\n",
       "   vader_sentiment_score vader_sentiment_label  \n",
       "0                -0.3660              negative  \n",
       "1                -0.8197              negative  \n",
       "2                 0.9779              positive  \n",
       "3                -0.3400              negative  \n",
       "4                 0.8590              positive  "
      ]
     },
     "execution_count": 192,
     "metadata": {},
     "output_type": "execute_result"
    }
   ],
   "source": [
    "data.head()"
   ]
  },
  {
   "cell_type": "code",
   "execution_count": 200,
   "id": "fcf893c2-76ad-4fed-94c1-53a4a721b27f",
   "metadata": {},
   "outputs": [],
   "source": [
    "X = [','.join(map(str, text)) for text in data['text_clean']]"
   ]
  },
  {
   "cell_type": "code",
   "execution_count": 201,
   "id": "187327ae-145f-439c-a984-477943184216",
   "metadata": {},
   "outputs": [],
   "source": [
    "Y = data['fake_or_factual']"
   ]
  },
  {
   "cell_type": "code",
   "execution_count": 202,
   "id": "71f159f0-4e59-4d2b-aa3f-6c9fe933134c",
   "metadata": {},
   "outputs": [],
   "source": [
    "countvec = CountVectorizer()"
   ]
  },
  {
   "cell_type": "code",
   "execution_count": 203,
   "id": "8eb12a7f-1396-44fc-916e-2603ec7ca092",
   "metadata": {},
   "outputs": [],
   "source": [
    "countvec_fit = countvec.fit_transform(X)"
   ]
  },
  {
   "cell_type": "code",
   "execution_count": 206,
   "id": "a88c64c3-2bad-429d-9e2d-92d2fb127839",
   "metadata": {},
   "outputs": [],
   "source": [
    "bag_of_words = pd.DataFrame(countvec_fit.toarray(), columns=countvec.get_feature_names_out())"
   ]
  },
  {
   "cell_type": "code",
   "execution_count": 207,
   "id": "d0138e70-5c1a-4bd3-a619-8092ac0650bf",
   "metadata": {},
   "outputs": [],
   "source": [
    "X_train, X_test, y_train, y_test = train_test_split(bag_of_words, Y, test_size = 0.3)"
   ]
  },
  {
   "cell_type": "code",
   "execution_count": 208,
   "id": "6b728ecf-fc55-4e19-957f-077f0f8c173b",
   "metadata": {},
   "outputs": [],
   "source": [
    "lr = LogisticRegression(random_state=0).fit(X_train, y_train)"
   ]
  },
  {
   "cell_type": "code",
   "execution_count": 209,
   "id": "9b7db021-777c-42bb-ba4f-b17f25a2394b",
   "metadata": {},
   "outputs": [],
   "source": [
    "y_pred_lr = lr.predict(X_test)"
   ]
  },
  {
   "cell_type": "code",
   "execution_count": 219,
   "id": "249d9594-bb32-40ae-b0d2-90d6ceb765b8",
   "metadata": {},
   "outputs": [
    {
     "data": {
      "text/plain": [
       "0.8833333333333333"
      ]
     },
     "execution_count": 219,
     "metadata": {},
     "output_type": "execute_result"
    }
   ],
   "source": [
    "accuracy_score(y_pred_lr, y_test)"
   ]
  },
  {
   "cell_type": "code",
   "execution_count": 220,
   "id": "4fc80b0e-f4f2-447c-b7db-9e56b0eb99fd",
   "metadata": {},
   "outputs": [
    {
     "name": "stdout",
     "output_type": "stream",
     "text": [
      "              precision    recall  f1-score   support\n",
      "\n",
      "Factual News       0.89      0.91      0.90        35\n",
      "   Fake News       0.88      0.84      0.86        25\n",
      "\n",
      "    accuracy                           0.88        60\n",
      "   macro avg       0.88      0.88      0.88        60\n",
      "weighted avg       0.88      0.88      0.88        60\n",
      "\n"
     ]
    }
   ],
   "source": [
    "print(classification_report(y_test, y_pred_lr))"
   ]
  },
  {
   "cell_type": "code",
   "execution_count": 212,
   "id": "536fdb89-1c5a-4877-8e9a-c3b6042dfc47",
   "metadata": {},
   "outputs": [],
   "source": [
    "svm = SGDClassifier().fit(X_train, y_train)"
   ]
  },
  {
   "cell_type": "code",
   "execution_count": 213,
   "id": "e671cee4-68fa-4797-ab28-43fe9d4b1061",
   "metadata": {},
   "outputs": [],
   "source": [
    "y_pred_svm = svm.predict(X_test)"
   ]
  },
  {
   "cell_type": "code",
   "execution_count": 214,
   "id": "75f98737-47a6-43d9-92b2-02c7817a8376",
   "metadata": {},
   "outputs": [
    {
     "data": {
      "text/plain": [
       "0.7666666666666667"
      ]
     },
     "execution_count": 214,
     "metadata": {},
     "output_type": "execute_result"
    }
   ],
   "source": [
    "accuracy_score(y_pred_svm, y_test)"
   ]
  },
  {
   "cell_type": "code",
   "execution_count": null,
   "id": "a7aa61d2-29d5-463b-88de-df6cb8b6ba66",
   "metadata": {},
   "outputs": [],
   "source": []
  }
 ],
 "metadata": {
  "kernelspec": {
   "display_name": "Python 3 (ipykernel)",
   "language": "python",
   "name": "python3"
  },
  "language_info": {
   "codemirror_mode": {
    "name": "ipython",
    "version": 3
   },
   "file_extension": ".py",
   "mimetype": "text/x-python",
   "name": "python",
   "nbconvert_exporter": "python",
   "pygments_lexer": "ipython3",
   "version": "3.11.7"
  }
 },
 "nbformat": 4,
 "nbformat_minor": 5
}
